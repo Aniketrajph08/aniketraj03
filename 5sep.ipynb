{
 "cells": [
  {
   "cell_type": "code",
   "execution_count": 1,
   "metadata": {},
   "outputs": [
    {
     "name": "stdout",
     "output_type": "stream",
     "text": [
      "Requirement already satisfied: qiskit in c:\\users\\banti\\anaconda3\\anaconda\\lib\\site-packages (1.2.4)\n",
      "Requirement already satisfied: rustworkx>=0.15.0 in c:\\users\\banti\\anaconda3\\anaconda\\lib\\site-packages (from qiskit) (0.15.1)\n",
      "Requirement already satisfied: numpy<3,>=1.17 in c:\\users\\banti\\anaconda3\\anaconda\\lib\\site-packages (from qiskit) (1.26.4)\n",
      "Requirement already satisfied: scipy>=1.5 in c:\\users\\banti\\anaconda3\\anaconda\\lib\\site-packages (from qiskit) (1.13.1)\n",
      "Requirement already satisfied: sympy>=1.3 in c:\\users\\banti\\anaconda3\\anaconda\\lib\\site-packages (from qiskit) (1.12)\n",
      "Requirement already satisfied: dill>=0.3 in c:\\users\\banti\\anaconda3\\anaconda\\lib\\site-packages (from qiskit) (0.3.8)\n",
      "Requirement already satisfied: python-dateutil>=2.8.0 in c:\\users\\banti\\anaconda3\\anaconda\\lib\\site-packages (from qiskit) (2.9.0.post0)\n",
      "Requirement already satisfied: stevedore>=3.0.0 in c:\\users\\banti\\anaconda3\\anaconda\\lib\\site-packages (from qiskit) (5.3.0)\n",
      "Requirement already satisfied: typing-extensions in c:\\users\\banti\\anaconda3\\anaconda\\lib\\site-packages (from qiskit) (4.11.0)\n",
      "Requirement already satisfied: symengine<0.14,>=0.11 in c:\\users\\banti\\anaconda3\\anaconda\\lib\\site-packages (from qiskit) (0.13.0)\n",
      "Requirement already satisfied: six>=1.5 in c:\\users\\banti\\anaconda3\\anaconda\\lib\\site-packages (from python-dateutil>=2.8.0->qiskit) (1.16.0)\n",
      "Requirement already satisfied: pbr>=2.0.0 in c:\\users\\banti\\anaconda3\\anaconda\\lib\\site-packages (from stevedore>=3.0.0->qiskit) (6.1.0)\n",
      "Requirement already satisfied: mpmath>=0.19 in c:\\users\\banti\\anaconda3\\anaconda\\lib\\site-packages (from sympy>=1.3->qiskit) (1.3.0)\n",
      "Note: you may need to restart the kernel to use updated packages.\n"
     ]
    }
   ],
   "source": [
    "pip install qiskit"
   ]
  },
  {
   "cell_type": "code",
   "execution_count": 2,
   "metadata": {},
   "outputs": [
    {
     "name": "stdout",
     "output_type": "stream",
     "text": [
      "Requirement already satisfied: pylatexenc in c:\\users\\banti\\anaconda3\\anaconda\\lib\\site-packages (2.10)Note: you may need to restart the kernel to use updated packages.\n",
      "\n"
     ]
    }
   ],
   "source": [
    "pip install pylatexenc"
   ]
  },
  {
   "cell_type": "code",
   "execution_count": 3,
   "metadata": {},
   "outputs": [],
   "source": [
    "from qiskit import QuantumCircuit\n",
    "from qiskit.circuit.library.standard_gates import RYGate\n",
    "from qiskit.quantum_info import Operator\n",
    "import numpy as np"
   ]
  },
  {
   "cell_type": "code",
   "execution_count": 4,
   "metadata": {},
   "outputs": [
    {
     "data": {
      "image/png": "[encoded data removed]",
      "text/plain": [
       "<Figure size 872.774x284.278 with 1 Axes>"
      ]
     },
     "execution_count": 4,
     "metadata": {},
     "output_type": "execute_result"
    }
   ],
   "source": [
    "qc=QuantumCircuit(3)\n",
    "qc.x(0)\n",
    "qc.x(1)\n",
    "cry=RYGate(np.pi/6).control(2)\n",
    "qc.append(cry,[0,1,2])\n",
    "qc.x(0)\n",
    "qc.x(1)\n",
    "qc.x(0)\n",
    "cry=RYGate(-np.pi/8).control(2)\n",
    "qc.append(cry,[0,1,2])\n",
    "qc.x(0)\n",
    "qc.x(1)\n",
    "cry=RYGate(np.pi/2).control(2)\n",
    "qc.append(cry,[0,1,2])\n",
    "qc.x(1)\n",
    "cry=RYGate(np.pi/7).control(2)\n",
    "qc.append(cry,[0,1,2])\n",
    "qc.draw('mpl')"
   ]
  },
  {
   "cell_type": "code",
   "execution_count": 11,
   "metadata": {},
   "outputs": [
    {
     "data": {
      "text/latex": [
       "$$\n",
       "\n",
       "\\begin{bmatrix}\n",
       "0.8740903416 & 0 & 0 & 0 & -0.4857633937 & 0 & 0 & 0  \\\\\n",
       " 0 & 0.85772861 & 0 & 0 & 0 & -0.5141027442 & 0 & 0  \\\\\n",
       " 0 & 0 & 0.9039892931 & 0 & 0 & 0 & 0.4275550934 & 0  \\\\\n",
       " 0 & 0 & 0 & 0.8916423679 & 0 & 0 & 0 & -0.4527404199  \\\\\n",
       " 0.4857633937 & 0 & 0 & 0 & 0.8740903416 & 0 & 0 & 0  \\\\\n",
       " 0 & 0.5141027442 & 0 & 0 & 0 & 0.85772861 & 0 & 0  \\\\\n",
       " 0 & 0 & -0.4275550934 & 0 & 0 & 0 & 0.9039892931 & 0  \\\\\n",
       " 0 & 0 & 0 & 0.4527404199 & 0 & 0 & 0 & 0.8916423679  \\\\\n",
       " \\end{bmatrix}\n",
       "$$"
      ],
      "text/plain": [
       "<IPython.core.display.Latex object>"
      ]
     },
     "execution_count": 11,
     "metadata": {},
     "output_type": "execute_result"
    }
   ],
   "source": [
    "unitary=Operator(qc)\n",
    "unitary\n",
    "unitary.draw('latex')"
   ]
  },
  {
   "cell_type": "code",
   "execution_count": 6,
   "metadata": {},
   "outputs": [],
   "source": [
    "theta1=np.pi/6\n",
    "theta2=-np.pi/8\n",
    "theta3=np.pi/2\n",
    "theta4=np.pi/7\n",
    "\n",
    "alpha1=(theta1+theta2+theta3+theta4)/4\n",
    "alpha2=(theta1-theta2+theta3-theta4)/4\n",
    "alpha3=(theta1-theta2-theta2+theta4)/4\n",
    "alpha4=(theta1+theta2-theta3-theta4)/4"
   ]
  },
  {
   "cell_type": "code",
   "execution_count": 7,
   "metadata": {},
   "outputs": [
    {
     "data": {
      "image/png": "[encoded data removed]",
      "text/plain": [
       "<Figure size 789.163x284.278 with 1 Axes>"
      ]
     },
     "execution_count": 7,
     "metadata": {},
     "output_type": "execute_result"
    }
   ],
   "source": [
    "qc=QuantumCircuit(3)\n",
    "qc.ry(alpha1,2)\n",
    "qc.cx(1,2)\n",
    "qc.ry(alpha2,2)\n",
    "qc.cx(0,2)\n",
    "qc.ry(alpha3,2)\n",
    "qc.cx(1,2)\n",
    "qc.ry(alpha4,2)\n",
    "qc.cx(0,2)\n",
    "qc.draw('mpl')"
   ]
  },
  {
   "cell_type": "code",
   "execution_count": 8,
   "metadata": {},
   "outputs": [
    {
     "name": "stdout",
     "output_type": "stream",
     "text": [
      "Operator([[ 0.87409034+0.j,  0.        +0.j,  0.        +0.j,\n",
      "            0.        +0.j, -0.48576339+0.j,  0.        +0.j,\n",
      "            0.        +0.j,  0.        +0.j],\n",
      "          [ 0.        +0.j,  0.85772861+0.j,  0.        +0.j,\n",
      "            0.        +0.j,  0.        +0.j, -0.51410274+0.j,\n",
      "            0.        +0.j,  0.        +0.j],\n",
      "          [ 0.        +0.j,  0.        +0.j,  0.90398929+0.j,\n",
      "            0.        +0.j,  0.        +0.j,  0.        +0.j,\n",
      "            0.42755509+0.j,  0.        +0.j],\n",
      "          [ 0.        +0.j,  0.        +0.j,  0.        +0.j,\n",
      "            0.89164237+0.j,  0.        +0.j,  0.        +0.j,\n",
      "            0.        +0.j, -0.45274042+0.j],\n",
      "          [ 0.48576339+0.j,  0.        +0.j,  0.        +0.j,\n",
      "            0.        +0.j,  0.87409034+0.j,  0.        +0.j,\n",
      "            0.        +0.j,  0.        +0.j],\n",
      "          [ 0.        +0.j,  0.51410274+0.j,  0.        +0.j,\n",
      "            0.        +0.j,  0.        +0.j,  0.85772861+0.j,\n",
      "            0.        +0.j,  0.        +0.j],\n",
      "          [ 0.        +0.j,  0.        +0.j, -0.42755509+0.j,\n",
      "            0.        +0.j,  0.        +0.j,  0.        +0.j,\n",
      "            0.90398929+0.j,  0.        +0.j],\n",
      "          [ 0.        +0.j,  0.        +0.j,  0.        +0.j,\n",
      "            0.45274042+0.j,  0.        +0.j,  0.        +0.j,\n",
      "            0.        +0.j,  0.89164237+0.j]],\n",
      "         input_dims=(2, 2, 2), output_dims=(2, 2, 2))\n"
     ]
    }
   ],
   "source": [
    "unitary=Operator(qc)\n",
    "unitary"
   ]
  },
  {
   "cell_type": "code",
   "execution_count": 10,
   "metadata": {},
   "outputs": [
    {
     "data": {
      "text/latex": [
       "$$\n",
       "\n",
       "\\begin{bmatrix}\n",
       "0.8740903416 & 0 & 0 & 0 & -0.4857633937 & 0 & 0 & 0  \\\\\n",
       " 0 & 0.85772861 & 0 & 0 & 0 & -0.5141027442 & 0 & 0  \\\\\n",
       " 0 & 0 & 0.9039892931 & 0 & 0 & 0 & 0.4275550934 & 0  \\\\\n",
       " 0 & 0 & 0 & 0.8916423679 & 0 & 0 & 0 & -0.4527404199  \\\\\n",
       " 0.4857633937 & 0 & 0 & 0 & 0.8740903416 & 0 & 0 & 0  \\\\\n",
       " 0 & 0.5141027442 & 0 & 0 & 0 & 0.85772861 & 0 & 0  \\\\\n",
       " 0 & 0 & -0.4275550934 & 0 & 0 & 0 & 0.9039892931 & 0  \\\\\n",
       " 0 & 0 & 0 & 0.4527404199 & 0 & 0 & 0 & 0.8916423679  \\\\\n",
       " \\end{bmatrix}\n",
       "$$"
      ],
      "text/plain": [
       "<IPython.core.display.Latex object>"
      ]
     },
     "execution_count": 10,
     "metadata": {},
     "output_type": "execute_result"
    }
   ],
   "source": [
    "unitary.draw('latex')"
   ]
  },
  {
   "cell_type": "code",
   "execution_count": 9,
   "metadata": {},
   "outputs": [
    {
     "data": {
      "text/latex": [
       "$$\n",
       "\n",
       "\\begin{bmatrix}\n",
       "0.8740903416 & 0 & 0 & 0 & -0.4857633937 & 0 & 0 & 0  \\\\\n",
       " 0 & 0.85772861 & 0 & 0 & 0 & -0.5141027442 & 0 & 0  \\\\\n",
       " 0 & 0 & 0.9039892931 & 0 & 0 & 0 & 0.4275550934 & 0  \\\\\n",
       " 0 & 0 & 0 & 0.8916423679 & 0 & 0 & 0 & -0.4527404199  \\\\\n",
       " 0.4857633937 & 0 & 0 & 0 & 0.8740903416 & 0 & 0 & 0  \\\\\n",
       " 0 & 0.5141027442 & 0 & 0 & 0 & 0.85772861 & 0 & 0  \\\\\n",
       " 0 & 0 & -0.4275550934 & 0 & 0 & 0 & 0.9039892931 & 0  \\\\\n",
       " 0 & 0 & 0 & 0.4527404199 & 0 & 0 & 0 & 0.8916423679  \\\\\n",
       " \\end{bmatrix}\n",
       "$$"
      ],
      "text/plain": [
       "<IPython.core.display.Latex object>"
      ]
     },
     "execution_count": 9,
     "metadata": {},
     "output_type": "execute_result"
    }
   ],
   "source": [
    "unitary.draw('latex')"
   ]
  },
  {
   "cell_type": "code",
   "execution_count": null,
   "metadata": {},
   "outputs": [],
   "source": []
  }
 ],
 "metadata": {
  "kernelspec": {
   "display_name": "Python 3",
   "language": "python",
   "name": "python3"
  },
  "language_info": {
   "codemirror_mode": {
    "name": "ipython",
    "version": 3
   },
   "file_extension": ".py",
   "mimetype": "text/x-python",
   "name": "python",
   "nbconvert_exporter": "python",
   "pygments_lexer": "ipython3",
   "version": "3.12.4"
  }
 },
 "nbformat": 4,
 "nbformat_minor": 2
}
